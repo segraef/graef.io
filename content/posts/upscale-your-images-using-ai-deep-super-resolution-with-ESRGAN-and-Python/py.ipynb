{
 "cells": [
  {
   "cell_type": "code",
   "execution_count": 1,
   "metadata": {},
   "outputs": [
    {
     "name": "stdout",
     "output_type": "stream",
     "text": [
      "True\n",
      "True\n"
     ]
    }
   ],
   "source": [
    "import cv2\n",
    "import esrgan\n",
    "\n",
    "# Load the low-resolution image\n",
    "lr_img = cv2.imread(\"sbstngrf_abstract_generative_art_red_ruby_white_glow_cold_textu_49aba079-c405-43c6-a128-f8091150aaa7.png\")\n",
    "\n",
    "# Upscale the image using ESRGAN\n",
    "hr_img = esrgan.upscale(lr_img)\n",
    "\n",
    "# Save the high-resolution image\n",
    "cv2.imwrite(\"high_res_image.jpg\", hr_img)"
   ]
  }
 ],
 "metadata": {
  "kernelspec": {
   "display_name": "Python 3",
   "language": "python",
   "name": "python3"
  },
  "language_info": {
   "codemirror_mode": {
    "name": "ipython",
    "version": 3
   },
   "file_extension": ".py",
   "mimetype": "text/x-python",
   "name": "python",
   "nbconvert_exporter": "python",
   "pygments_lexer": "ipython3",
   "version": "3.10.8"
  },
  "orig_nbformat": 4,
  "vscode": {
   "interpreter": {
    "hash": "b0fa6594d8f4cbf19f97940f81e996739fb7646882a419484c72d19e05852a7e"
   }
  }
 },
 "nbformat": 4,
 "nbformat_minor": 2
}
